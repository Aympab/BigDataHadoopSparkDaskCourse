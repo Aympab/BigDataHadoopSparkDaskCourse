{
 "cells": [
  {
   "cell_type": "code",
   "execution_count": 1,
   "metadata": {},
   "outputs": [],
   "source": [
    "import imageio\n",
    "import os\n",
    "import numpy as np\n",
    "from scipy.ndimage import median_filter\n",
    "\n",
    "def readImg(path):\n",
    "    img = imageio.imread(path)\n",
    "    im = np.array(img,dtype='uint8')\n",
    "    return im"
   ]
  },
  {
   "cell_type": "code",
   "execution_count": 10,
   "metadata": {},
   "outputs": [],
   "source": [
    "img_buf = readImg(\"lena_noisy.jpg\")\n",
    "\n",
    "lena_filter = median_filter(img_buf, size=(3,3,3))"
   ]
  },
  {
   "cell_type": "code",
   "execution_count": 11,
   "metadata": {},
   "outputs": [],
   "source": [
    "imageio.imwrite('lena_filter.jpg', lena_filter)"
   ]
  },
  {
   "cell_type": "code",
   "execution_count": 12,
   "metadata": {},
   "outputs": [
    {
     "data": {
      "text/plain": [
       "array([[[226, 158, 137],\n",
       "        [228, 163, 137],\n",
       "        [228, 165, 125],\n",
       "        ...,\n",
       "        [178, 140, 112],\n",
       "        [178, 154, 136],\n",
       "        [203, 154, 152]],\n",
       "\n",
       "       [[208, 159, 150],\n",
       "        [224, 165, 157],\n",
       "        [207, 165, 139],\n",
       "        ...,\n",
       "        [177, 132, 104],\n",
       "        [156, 134, 101],\n",
       "        [154, 134,  97]],\n",
       "\n",
       "       [[197, 158, 149],\n",
       "        [203, 160, 149],\n",
       "        [200, 161, 147],\n",
       "        ...,\n",
       "        [136, 112,  91],\n",
       "        [134, 112,  71],\n",
       "        [134, 115,  88]],\n",
       "\n",
       "       ...,\n",
       "\n",
       "       [[ 87,  74,  62],\n",
       "        [100,  81,  72],\n",
       "        [117, 100,  94],\n",
       "        ...,\n",
       "        [ 98,  83,  78],\n",
       "        [107,  90,  76],\n",
       "        [100,  90,  66]],\n",
       "\n",
       "       [[ 87,  79,  72],\n",
       "        [ 87,  79,  62],\n",
       "        [112,  96,  86],\n",
       "        ...,\n",
       "        [101,  83,  78],\n",
       "        [107, 100,  81],\n",
       "        [118, 102,  92]],\n",
       "\n",
       "       [[ 79,  77,  72],\n",
       "        [ 79,  72,  57],\n",
       "        [ 86,  77,  57],\n",
       "        ...,\n",
       "        [102,  92,  69],\n",
       "        [115, 103,  93],\n",
       "        [123, 118, 112]]], dtype=uint8)"
      ]
     },
     "execution_count": 12,
     "metadata": {},
     "output_type": "execute_result"
    }
   ],
   "source": [
    "np.array(median_filter(img_buf, size=(3,3,3)),dtype='uint8')"
   ]
  },
  {
   "cell_type": "code",
   "execution_count": null,
   "metadata": {},
   "outputs": [],
   "source": []
  }
 ],
 "metadata": {
  "interpreter": {
   "hash": "aa60a5ed8bc15779f3647f1f7132a0f85f30b2f00712fcc9040f138120045714"
  },
  "kernelspec": {
   "display_name": "Python 3.9.7 64-bit ('tp-ml': conda)",
   "language": "python",
   "name": "python3"
  },
  "language_info": {
   "codemirror_mode": {
    "name": "ipython",
    "version": 3
   },
   "file_extension": ".py",
   "mimetype": "text/x-python",
   "name": "python",
   "nbconvert_exporter": "python",
   "pygments_lexer": "ipython3",
   "version": "3.9.7"
  },
  "orig_nbformat": 4
 },
 "nbformat": 4,
 "nbformat_minor": 2
}
