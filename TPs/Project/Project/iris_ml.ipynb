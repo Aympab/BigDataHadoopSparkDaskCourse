{
 "cells": [
  {
   "cell_type": "markdown",
   "id": "handy-holmes",
   "metadata": {},
   "source": [
    "import libraries"
   ]
  },
  {
   "cell_type": "code",
   "execution_count": 11,
   "id": "perfect-gothic",
   "metadata": {},
   "outputs": [],
   "source": [
    "import pyspark\n",
    "from pyspark import SparkContext\n",
    "from pyspark.sql import Row, SQLContext\n",
    "from pyspark import SparkFiles\n",
    "from pyspark.ml import Pipeline\n",
    "from pyspark.ml.feature import StringIndexer, VectorAssembler, VectorIndexer\n",
    "from pyspark.ml.linalg import Vectors\n",
    "from pyspark.ml.classification import DecisionTreeClassifier, RandomForestClassifier, LogisticRegression\n",
    "from pyspark.ml.evaluation import MulticlassClassificationEvaluator\n",
    "import os\n",
    "import pandas as pd"
   ]
  },
  {
   "cell_type": "code",
   "execution_count": 2,
   "id": "failing-destiny",
   "metadata": {},
   "outputs": [],
   "source": [
    "# create spark and sql context\n",
    "sc = SparkContext()\n",
    "sqlContext = SQLContext(sc)"
   ]
  },
  {
   "cell_type": "code",
   "execution_count": 3,
   "id": "defined-bahamas",
   "metadata": {},
   "outputs": [
    {
     "name": "stdout",
     "output_type": "stream",
     "text": [
      "root\n",
      " |-- sepal_length: double (nullable = true)\n",
      " |-- sepal_width: double (nullable = true)\n",
      " |-- petal_length: double (nullable = true)\n",
      " |-- petal_width: double (nullable = true)\n",
      " |-- variety: string (nullable = true)\n",
      "\n"
     ]
    }
   ],
   "source": [
    "# load iris data as pandas dataframe and then convert it into spark dataframe\n",
    "pandas_data = pd.read_csv(\"iris.csv\")\n",
    "data = sqlContext.createDataFrame(pandas_data)\n",
    "data.printSchema()"
   ]
  },
  {
   "cell_type": "code",
   "execution_count": 4,
   "id": "activated-synthesis",
   "metadata": {
    "scrolled": false
   },
   "outputs": [
    {
     "name": "stdout",
     "output_type": "stream",
     "text": [
      "+------------+-----------+------------+-----------+-------+\n",
      "|sepal_length|sepal_width|petal_length|petal_width|variety|\n",
      "+------------+-----------+------------+-----------+-------+\n",
      "|         5.1|        3.5|         1.4|        0.2| Setosa|\n",
      "|         4.9|        3.0|         1.4|        0.2| Setosa|\n",
      "|         4.7|        3.2|         1.3|        0.2| Setosa|\n",
      "|         4.6|        3.1|         1.5|        0.2| Setosa|\n",
      "|         5.0|        3.6|         1.4|        0.2| Setosa|\n",
      "+------------+-----------+------------+-----------+-------+\n",
      "only showing top 5 rows\n",
      "\n"
     ]
    }
   ],
   "source": [
    "data.show(5)"
   ]
  },
  {
   "cell_type": "code",
   "execution_count": 5,
   "id": "immediate-hollywood",
   "metadata": {},
   "outputs": [
    {
     "name": "stdout",
     "output_type": "stream",
     "text": [
      "+-------+------------------+------------------+------------------+------------------+---------+\n",
      "|summary|      sepal_length|       sepal_width|      petal_length|       petal_width|  variety|\n",
      "+-------+------------------+------------------+------------------+------------------+---------+\n",
      "|  count|               150|               150|               150|               150|      150|\n",
      "|   mean| 5.843333333333334|3.0573333333333337|3.7580000000000005|1.1993333333333331|     null|\n",
      "| stddev|0.8280661279778632|0.4358662849366982|1.7652982332594662|0.7622376689603466|     null|\n",
      "|    min|               4.3|               2.0|               1.0|               0.1|   Setosa|\n",
      "|    max|               7.9|               4.4|               6.9|               2.5|Virginica|\n",
      "+-------+------------------+------------------+------------------+------------------+---------+\n",
      "\n"
     ]
    }
   ],
   "source": [
    "#See standard parameters\n",
    "data.describe().show()"
   ]
  },
  {
   "cell_type": "markdown",
   "id": "international-expert",
   "metadata": {},
   "source": [
    "## Decision Trees Pipeline"
   ]
  },
  {
   "cell_type": "code",
   "execution_count": 6,
   "id": "purple-gauge",
   "metadata": {
    "scrolled": false
   },
   "outputs": [
    {
     "name": "stdout",
     "output_type": "stream",
     "text": [
      "+----------+-----------+-----------------+\n",
      "|prediction|num_variety|         features|\n",
      "+----------+-----------+-----------------+\n",
      "|       0.0|        0.0|[4.9,3.1,1.5,0.1]|\n",
      "|       0.0|        0.0|[5.1,3.3,1.7,0.5]|\n",
      "|       0.0|        0.0|[5.2,3.5,1.5,0.2]|\n",
      "|       0.0|        0.0|[5.5,4.2,1.4,0.2]|\n",
      "|       0.0|        0.0|[4.5,2.3,1.3,0.3]|\n",
      "+----------+-----------+-----------------+\n",
      "only showing top 5 rows\n",
      "\n",
      "Test accuracy =  90.0 %\n",
      "DecisionTreeClassificationModel (uid=DecisionTreeClassifier_003f7d819650) of depth 5 with 13 nodes\n"
     ]
    }
   ],
   "source": [
    "# Stage1\n",
    "# convert the targets column to numerical\n",
    "stringIndexer = StringIndexer(inputCol=\"variety\", outputCol=\"num_variety\")\n",
    "\n",
    "# Stage2\n",
    "# assemble features in one column\n",
    "vectorAssembler = VectorAssembler(inputCols=[\"sepal_length\", \"sepal_width\", \"petal_length\", \"petal_width\"],\\\n",
    "                                  outputCol=\"features\")\n",
    "\n",
    "# Stage3\n",
    "# train a DecisionTree model.\n",
    "dt_classifier = DecisionTreeClassifier(labelCol=\"num_variety\", featuresCol=\"features\")\n",
    "\n",
    "\n",
    "# split data\n",
    "(training_data, test_data) = data.randomSplit([0.8, 0.2])\n",
    "\n",
    "# chain indexers and dt in a Pipeline\n",
    "dt_pipeline = Pipeline(stages=[stringIndexer, vectorAssembler, dt_classifier])\n",
    "\n",
    "# train model\n",
    "dt_model = dt_pipeline.fit(training_data)\n",
    "\n",
    "# make predictions.\n",
    "dt_predictions = dt_model.transform(test_data)\n",
    "\n",
    "# select example rows to display.\n",
    "dt_predictions.select(\"prediction\", \"num_variety\", \"features\").show(5)\n",
    "\n",
    "# select (prediction, true label) and compute test error\n",
    "evaluator = MulticlassClassificationEvaluator(\n",
    "    labelCol=\"num_variety\", predictionCol=\"prediction\", metricName=\"accuracy\")\n",
    "\n",
    "dt_accuracy = evaluator.evaluate(dt_predictions)\n",
    "print(\"Test accuracy = \", dt_accuracy*100, \"%\")\n",
    "\n",
    "treeModel = dt_model.stages[2]\n",
    "# summary only\n",
    "print(treeModel)\n"
   ]
  },
  {
   "cell_type": "markdown",
   "id": "bottom-characteristic",
   "metadata": {},
   "source": [
    "## Random Forest Pipeline"
   ]
  },
  {
   "cell_type": "code",
   "execution_count": 7,
   "id": "upper-rolling",
   "metadata": {},
   "outputs": [
    {
     "name": "stdout",
     "output_type": "stream",
     "text": [
      "+----------+-----------+-----------------+\n",
      "|prediction|num_variety|         features|\n",
      "+----------+-----------+-----------------+\n",
      "|       0.0|        0.0|[4.9,3.1,1.5,0.1]|\n",
      "|       0.0|        0.0|[5.1,3.3,1.7,0.5]|\n",
      "|       0.0|        0.0|[5.2,3.5,1.5,0.2]|\n",
      "|       0.0|        0.0|[5.5,4.2,1.4,0.2]|\n",
      "|       0.0|        0.0|[4.5,2.3,1.3,0.3]|\n",
      "+----------+-----------+-----------------+\n",
      "only showing top 5 rows\n",
      "\n",
      "Test accuracy =  96.66666666666667 %\n",
      "RandomForestClassificationModel (uid=RandomForestClassifier_1503000db8fd) with 20 trees\n"
     ]
    }
   ],
   "source": [
    "# Stage3\n",
    "# train a Random Forest model.\n",
    "rf_classifier = RandomForestClassifier(labelCol=\"num_variety\", featuresCol=\"features\")\n",
    "\n",
    "\n",
    "# chain indexers and dt in a Pipeline\n",
    "rf_pipeline = Pipeline(stages=[stringIndexer, vectorAssembler, rf_classifier])\n",
    "\n",
    "# train model\n",
    "rf_model = rf_pipeline.fit(training_data)\n",
    "\n",
    "# make predictions.\n",
    "rf_predictions = rf_model.transform(test_data)\n",
    "\n",
    "# select example rows to display.\n",
    "rf_predictions.select(\"prediction\", \"num_variety\", \"features\").show(5)\n",
    "\n",
    "# compute accuracy\n",
    "rf_accuracy = evaluator.evaluate(rf_predictions)\n",
    "print(\"Test accuracy = \", rf_accuracy*100, \"%\")\n",
    "\n",
    "forestModel = rf_model.stages[2]\n",
    "# summary only\n",
    "print(forestModel)\n"
   ]
  },
  {
   "cell_type": "markdown",
   "id": "natural-interaction",
   "metadata": {},
   "source": [
    "## Gradient Boosting Tree Classifier"
   ]
  },
  {
   "cell_type": "code",
   "execution_count": 13,
   "id": "swiss-necessity",
   "metadata": {},
   "outputs": [
    {
     "name": "stdout",
     "output_type": "stream",
     "text": [
      "+----------+-----------+-----------------+\n",
      "|prediction|num_variety|         features|\n",
      "+----------+-----------+-----------------+\n",
      "|       0.0|        0.0|[4.9,3.1,1.5,0.1]|\n",
      "|       0.0|        0.0|[5.1,3.3,1.7,0.5]|\n",
      "|       0.0|        0.0|[5.2,3.5,1.5,0.2]|\n",
      "|       0.0|        0.0|[5.5,4.2,1.4,0.2]|\n",
      "|       0.0|        0.0|[4.5,2.3,1.3,0.3]|\n",
      "+----------+-----------+-----------------+\n",
      "only showing top 5 rows\n",
      "\n",
      "Test accuracy =  60.0 %\n",
      "LogisticRegressionModel: uid = LogisticRegression_3eb0c583d34a, numClasses = 3, numFeatures = 4\n"
     ]
    }
   ],
   "source": [
    "# Stage3\n",
    "# train a DecisionTree model.\n",
    "lr_classifier = LogisticRegression(labelCol=\"num_variety\", featuresCol=\"features\", maxIter=10, regParam=0.3, elasticNetParam=0.8)\n",
    "\n",
    "# chain indexers and gbt in a Pipeline\n",
    "lr_pipeline = Pipeline(stages=[stringIndexer, vectorAssembler, lr_classifier])\n",
    "\n",
    "# train model\n",
    "lr_model = lr_pipeline.fit(training_data)\n",
    "\n",
    "# make predictions.\n",
    "lr_predictions = lr_model.transform(test_data)\n",
    "\n",
    "# select example rows to display.\n",
    "lr_predictions.select(\"prediction\", \"num_variety\", \"features\").show(5)\n",
    "\n",
    "lr_accuracy = evaluator.evaluate(lr_predictions)\n",
    "print(\"Test accuracy = \", lr_accuracy*100, \"%\")\n",
    "\n",
    "lrModel = lr_model.stages[2]\n",
    "# summary only\n",
    "print(lrModel)\n"
   ]
  },
  {
   "cell_type": "code",
   "execution_count": null,
   "id": "liable-joint",
   "metadata": {},
   "outputs": [],
   "source": [
    "sc.stop()"
   ]
  }
 ],
 "metadata": {
  "kernelspec": {
   "display_name": "Python 3",
   "language": "python",
   "name": "python3"
  },
  "language_info": {
   "codemirror_mode": {
    "name": "ipython",
    "version": 3
   },
   "file_extension": ".py",
   "mimetype": "text/x-python",
   "name": "python",
   "nbconvert_exporter": "python",
   "pygments_lexer": "ipython3",
   "version": "3.7.8"
  }
 },
 "nbformat": 4,
 "nbformat_minor": 5
}
