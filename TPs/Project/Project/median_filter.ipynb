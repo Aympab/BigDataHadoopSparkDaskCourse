{
 "cells": [
  {
   "cell_type": "code",
   "execution_count": 1,
   "id": "functional-nepal",
   "metadata": {},
   "outputs": [],
   "source": [
    "import pyspark\n",
    "from pyspark import SparkContext\n",
    "import imageio\n",
    "import os\n",
    "import numpy as np"
   ]
  },
  {
   "cell_type": "code",
   "execution_count": 2,
   "id": "extended-appreciation",
   "metadata": {},
   "outputs": [],
   "source": [
    "def readImg(path):\n",
    "    img = imageio.imread(path)\n",
    "    im = np.array(img,dtype='uint8')\n",
    "    return im\n",
    "\n",
    "def writeImg(path,buf):\n",
    "    imageio.imwrite(path,buf)\n",
    "\n",
    "def part_median_filter(local_data):\n",
    "    part_id = local_data[0]\n",
    "    first   = local_data[1]\n",
    "    end     = local_data[2]\n",
    "    buf     = local_data[3]\n",
    "    nx = buf.shape[0]\n",
    "    ny = buf.shape[1]\n",
    "    \n",
    "    # CREATE NEW BUF WITH MEDIAN FILTER SOLUTION\n",
    "    new_buf = np.array([end-first,ny],dtype='uint8')\n",
    "    new_buf = buf[int(first):int(end),:,:]\n",
    "    \n",
    "    # TODO COMPUTE MEDIAN FILTER\n",
    "    for i in range(1, int(end)-int(first)-1):\n",
    "        for j in range(1, ny-1):\n",
    "            surr_pixels = [new_buf[i-1,j-1], new_buf[i-1,j], new_buf[i-1,j+1], \n",
    "                           new_buf[i,j-1], new_buf[i,j], new_buf[i,j+1], \n",
    "                           new_buf[i+1,j-1], new_buf[i+1,j], new_buf[i+1,j+1]]\n",
    "            new_buf[i,j] = np.median(surr_pixels)\n",
    "            \n",
    "    # RETURN LOCAL IMAGE PART\n",
    "    \n",
    "    return part_id,new_buf\n"
   ]
  },
  {
   "cell_type": "code",
   "execution_count": 3,
   "id": "finished-psychology",
   "metadata": {},
   "outputs": [
    {
     "name": "stdout",
     "output_type": "stream",
     "text": [
      "SHAPE (128, 128, 3)\n",
      "NB PARTITIONS :  8\n",
      "(128, 128, 3)\n",
      "(16, 128, 3)\n",
      "(128, 128, 3)\n",
      "CREATE NEW PICTURE FILE\n"
     ]
    }
   ],
   "source": [
    "def main():\n",
    "    file = 'lena_noisy.jpg'\n",
    "    img_buf=readImg(file)\n",
    "    print('SHAPE',img_buf.shape)\n",
    "    #print('IMG\\n',img_buf)\n",
    "    nx=img_buf.shape[0]\n",
    "    ny=img_buf.shape[1]\n",
    "    \n",
    "    # SPLT IMAGES IN NB_PARTITIONS PARTS\n",
    "    nb_partitions = 8\n",
    "    print(\"NB PARTITIONS : \", nb_partitions)\n",
    "    data=[]\n",
    "    begin=0\n",
    "    block_size=nx/nb_partitions\n",
    "    for ip in range(nb_partitions):\n",
    "        end=min(begin+block_size,nx)\n",
    "        data.append([ip,begin,end,img_buf])\n",
    "        begin=end\n",
    "    \n",
    "    print(data[0][3].shape)\n",
    "    # CREATE SPARKCONTEXT\n",
    "    \n",
    "    sc = SparkContext()\n",
    "    data_rdd = sc.parallelize(data,nb_partitions)\n",
    "    \n",
    "\n",
    "\n",
    "    # PARALLEL MEDIAN FILTER COMPUTATION\n",
    "    result_rdd = data_rdd.map(part_median_filter)\n",
    "    result_data = result_rdd.collect()\n",
    "    print(result_data[0][1].shape)\n",
    "\n",
    "    new_img_buf = result_data[0][1]\n",
    "   \n",
    "    # COMPUTE NEW IMAGE RESULTS FROM RESULT RDD\n",
    "    for ip in range(1, nb_partitions):\n",
    "        new_img_buf = np.concatenate((new_img_buf, result_data[ip][1]), axis=0)\n",
    "    \n",
    "    print(new_img_buf.shape)\n",
    "    print('CREATE NEW PICTURE FILE')\n",
    "    filter_file = 'lena_filter.jpg'\n",
    "    writeImg(filter_file,new_img_buf)\n",
    "\n",
    "if __name__ == '__main__':\n",
    "    main()"
   ]
  }
 ],
 "metadata": {
  "kernelspec": {
   "display_name": "Python 3",
   "language": "python",
   "name": "python3"
  },
  "language_info": {
   "codemirror_mode": {
    "name": "ipython",
    "version": 3
   },
   "file_extension": ".py",
   "mimetype": "text/x-python",
   "name": "python",
   "nbconvert_exporter": "python",
   "pygments_lexer": "ipython3",
   "version": "3.7.9"
  }
 },
 "nbformat": 4,
 "nbformat_minor": 5
}
