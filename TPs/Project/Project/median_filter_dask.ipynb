{
 "cells": [
  {
   "cell_type": "code",
   "execution_count": 13,
   "id": "given-multiple",
   "metadata": {},
   "outputs": [
    {
     "name": "stdout",
     "output_type": "stream",
     "text": [
      "Collecting package metadata (current_repodata.json): done\n",
      "Solving environment: done\n",
      "\n",
      "\n",
      "==> WARNING: A newer version of conda exists. <==\n",
      "  current version: 4.7.12\n",
      "  latest version: 4.9.2\n",
      "\n",
      "Please update conda by running\n",
      "\n",
      "    $ conda update -n base -c defaults conda\n",
      "\n",
      "\n",
      "\n",
      "## Package Plan ##\n",
      "\n",
      "  environment location: /gext/nezar.lheimeur/hduser/conda/envs/spark-env\n",
      "\n",
      "  added / updated specs:\n",
      "    - dask-image\n",
      "\n",
      "\n",
      "The following packages will be downloaded:\n",
      "\n",
      "    package                    |            build\n",
      "    ---------------------------|-----------------\n",
      "    dask-image-0.5.0           |     pyhd8ed1ab_1          41 KB  conda-forge\n",
      "    openssl-1.1.1j             |       h7f98852_0         2.1 MB  conda-forge\n",
      "    pims-0.5                   |     pyh9f0ad1d_1          66 KB  conda-forge\n",
      "    slicerator-1.0.0           |             py_0          12 KB  conda-forge\n",
      "    ------------------------------------------------------------\n",
      "                                           Total:         2.2 MB\n",
      "\n",
      "The following NEW packages will be INSTALLED:\n",
      "\n",
      "  dask-image         conda-forge/noarch::dask-image-0.5.0-pyhd8ed1ab_1\n",
      "  pims               conda-forge/noarch::pims-0.5-pyh9f0ad1d_1\n",
      "  slicerator         conda-forge/noarch::slicerator-1.0.0-py_0\n",
      "\n",
      "The following packages will be UPDATED:\n",
      "\n",
      "  openssl                                 1.1.1i-h7f98852_0 --> 1.1.1j-h7f98852_0\n",
      "\n",
      "\n",
      "\n",
      "Downloading and Extracting Packages\n",
      "dask-image-0.5.0     | 41 KB     | ##################################### | 100% \n",
      "slicerator-1.0.0     | 12 KB     | ##################################### | 100% \n",
      "pims-0.5             | 66 KB     | ##################################### | 100% \n",
      "openssl-1.1.1j       | 2.1 MB    | ##################################### | 100% \n",
      "Preparing transaction: done\n",
      "Verifying transaction: done\n",
      "Executing transaction: done\n",
      "\n",
      "Note: you may need to restart the kernel to use updated packages.\n"
     ]
    }
   ],
   "source": [
    "conda install -c conda-forge dask-image"
   ]
  },
  {
   "cell_type": "code",
   "execution_count": 1,
   "id": "charged-timing",
   "metadata": {},
   "outputs": [],
   "source": [
    "# Importing required libraries\n",
    "import imageio\n",
    "import numpy as np\n",
    "from dask_image import imread\n",
    "from dask import array as darr\n",
    "#import matplotlib.pyplot as plt\n",
    "from scipy.ndimage.filters import median_filter\n"
   ]
  },
  {
   "cell_type": "code",
   "execution_count": 2,
   "id": "separate-japanese",
   "metadata": {},
   "outputs": [],
   "source": [
    "def partial_median(block):\n",
    "    return median_filter(block, footprint=np.ones((3,3,1)))\n"
   ]
  },
  {
   "cell_type": "code",
   "execution_count": 4,
   "id": "sudden-clinton",
   "metadata": {},
   "outputs": [],
   "source": [
    "# Defined Constants\n",
    "img = \"lena_noisy.jpg\"\n",
    "\n",
    "x_block_size = 8\n",
    "y_block_size = 8\n",
    "#noisy= imageio.imread(img)\n",
    "noisy = imread.imread(img)\n",
    "\n",
    "chunked = noisy[0].rechunk(chunks=(x_block_size, y_block_size, 3))\n",
    "\n",
    "#Ghost-Cells Creation\n",
    "extended = darr.overlap.overlap(chunked, depth={0:1,1:1}, boundary='nearest')\n",
    "\n",
    "#Apply non-linear kernel over parallel blocks\n",
    "filtered = extended.map_blocks(partial_median)\n",
    "\n",
    "result = darr.overlap.trim_internal(filtered, {0:1,1:1})\n",
    "\n",
    "# Write out resulting image\n",
    "imageio.imwrite(\"lena_filter_dask.jpg\", result)"
   ]
  },
  {
   "cell_type": "code",
   "execution_count": null,
   "id": "coral-picture",
   "metadata": {},
   "outputs": [],
   "source": []
  }
 ],
 "metadata": {
  "kernelspec": {
   "display_name": "Python 3",
   "language": "python",
   "name": "python3"
  },
  "language_info": {
   "codemirror_mode": {
    "name": "ipython",
    "version": 3
   },
   "file_extension": ".py",
   "mimetype": "text/x-python",
   "name": "python",
   "nbconvert_exporter": "python",
   "pygments_lexer": "ipython3",
   "version": "3.7.9"
  }
 },
 "nbformat": 4,
 "nbformat_minor": 5
}
